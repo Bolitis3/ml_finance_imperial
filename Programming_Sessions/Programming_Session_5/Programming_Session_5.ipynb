{
  "nbformat": 4,
  "nbformat_minor": 0,
  "metadata": {
    "colab": {
      "provenance": [],
      "include_colab_link": true
    },
    "kernelspec": {
      "name": "python3",
      "display_name": "Python 3"
    },
    "language_info": {
      "name": "python"
    }
  },
  "cells": [
    {
      "cell_type": "markdown",
      "metadata": {
        "id": "view-in-github",
        "colab_type": "text"
      },
      "source": [
        "<a href=\"https://colab.research.google.com/github/Bolitis3/ml_finance_imperial/blob/main/Programming_Sessions/Programming_Session_5/Programming_Session_5.ipynb\" target=\"_parent\"><img src=\"https://colab.research.google.com/assets/colab-badge.svg\" alt=\"Open In Colab\"/></a>"
      ]
    },
    {
      "cell_type": "markdown",
      "metadata": {
        "id": "48GJETGg1Aow"
      },
      "source": [
        "# **<center>Machine Learning and Finance </center>**\n",
        "\n",
        "\n",
        "## <center> Programming Session 6 - Introduction to Sequence Models - </center>\n",
        "\n",
        "\n",
        "\n",
        "**Introduction:**\n",
        "\n",
        "This session aims to explore two fundamental aspects of sequence modeling: a Numpy implementation of a standard Recurrent Neural Network (RNN) and the classification of MNIST digits using Long Short-Term Memory (LSTM) networks.\n",
        "\n",
        "**Challenge:**\n",
        "\n",
        "The primary challenge involves grasping the intricacies of sequence modeling techniques, understanding their implementation from scratch, and then applying them to a real-world dataset like MNIST for accurate digit classification. For the Numpy-based RNN, the challenge lies in comprehensively implementing the core functionality of RNNs using only Numpy operations. Meanwhile, for the LSTM-based MNIST classification, the challenge is to understand the complexities of LSTM cells and effectively utilize them to classify handwritten digits.\n",
        "\n",
        "**Dataset Overview:**\n",
        "\n",
        "The MNIST dataset, a classic benchmark dataset, consists of 28x28 grayscale images of handwritten digits ranging from 0 to 9. Each image is accompanied by a corresponding label indicating the digit it represents. This dataset serves as an ideal starting point for experimenting with various sequence modeling techniques.\n",
        "\n",
        "**Objectives:**\n",
        "\n",
        "1. **Numpy Implementation of Standard RNN:**\n",
        "   - Understand the architecture and functioning of standard RNNs.\n",
        "   - Implement a basic RNN using Numpy, focusing on forward propagation.\n",
        "\n",
        "2. **MNIST Classification Using LSTM:**\n",
        "   - Explore the concept of Long Short-Term Memory (LSTM) networks.\n",
        "   - Train and evaluate the LSTM model on the MNIST dataset for accurate digit classification.\n"
      ]
    },
    {
      "cell_type": "markdown",
      "metadata": {
        "id": "qngIFzSedTYR"
      },
      "source": [
        "# 1. Numpy implementation of a standard RNN"
      ]
    },
    {
      "cell_type": "markdown",
      "source": [
        "<center><img width=“700\" src = \"https://drive.google.com/uc?export=view&id=1vXVUvFIFDxYo_sdil2QPJWSCwXwZj27f\"></center>"
      ],
      "metadata": {
        "id": "2WHK0TFvgvHw"
      }
    },
    {
      "cell_type": "code",
      "metadata": {
        "id": "kCcWOvm03Zxu"
      },
      "source": [
        "# Import basic libraries\n",
        "import matplotlib.pyplot as plt # for plotting\n",
        "import numpy as np # for manipulating arrays\n",
        "import tensorflow as tf # for creating Neural Networks, we will use it to load data\n",
        "plt.style.use('dark_background') # to adapt the colors to a dark background\n",
        "from IPython.display import Image # for showing graphs from the lectures"
      ],
      "execution_count": 2,
      "outputs": []
    },
    {
      "cell_type": "markdown",
      "metadata": {
        "id": "rMujAuUXxAUA"
      },
      "source": [
        "We consider the following hyperparameters:"
      ]
    },
    {
      "cell_type": "code",
      "metadata": {
        "id": "xRb1hXjofx7W"
      },
      "source": [
        "N = 1000\n",
        "T = 100\n",
        "D = 50\n",
        "d = 20"
      ],
      "execution_count": 3,
      "outputs": []
    },
    {
      "cell_type": "markdown",
      "source": [
        "---\n",
        "<font color=green>Q1:</font>\n",
        "<br><font color='green'>\n",
        "Generate some random data of shape $(N, T, D)$.\n",
        "</font>\n",
        "\n",
        "---"
      ],
      "metadata": {
        "id": "RHFbv_RgfmB2"
      }
    },
    {
      "cell_type": "code",
      "metadata": {
        "id": "rt9mlOmDf5TU"
      },
      "source": [
        "A = np.random.rand(N,T,D)"
      ],
      "execution_count": 4,
      "outputs": []
    },
    {
      "cell_type": "code",
      "metadata": {
        "id": "qaiEGS_2hKy-",
        "outputId": "337ddd8e-64ad-42a2-e72c-cf8f7e0be182",
        "colab": {
          "base_uri": "https://localhost:8080/"
        }
      },
      "source": [
        "A"
      ],
      "execution_count": 5,
      "outputs": [
        {
          "output_type": "execute_result",
          "data": {
            "text/plain": [
              "array([[[0.43744338, 0.70934578, 0.22480612, ..., 0.98610056,\n",
              "         0.87579032, 0.93879056],\n",
              "        [0.53798422, 0.23226188, 0.22531692, ..., 0.22170331,\n",
              "         0.46067818, 0.11743299],\n",
              "        [0.03271851, 0.22518739, 0.05919939, ..., 0.00107961,\n",
              "         0.84079903, 0.0674027 ],\n",
              "        ...,\n",
              "        [0.58160651, 0.76656593, 0.05093256, ..., 0.99466038,\n",
              "         0.35510693, 0.16327322],\n",
              "        [0.44672192, 0.73976071, 0.7008699 , ..., 0.54480884,\n",
              "         0.48221978, 0.77243339],\n",
              "        [0.79431039, 0.61495343, 0.57262165, ..., 0.70613046,\n",
              "         0.91863758, 0.96937436]],\n",
              "\n",
              "       [[0.59378014, 0.71251941, 0.6956268 , ..., 0.48554655,\n",
              "         0.56903453, 0.56730539],\n",
              "        [0.19042678, 0.69929474, 0.49925485, ..., 0.09640087,\n",
              "         0.79428632, 0.24509449],\n",
              "        [0.75714958, 0.41824187, 0.51267354, ..., 0.69631396,\n",
              "         0.45082554, 0.20369295],\n",
              "        ...,\n",
              "        [0.23667244, 0.6406571 , 0.41509445, ..., 0.79626767,\n",
              "         0.81318639, 0.08284824],\n",
              "        [0.48353714, 0.7760667 , 0.2473901 , ..., 0.04751726,\n",
              "         0.06937792, 0.53533747],\n",
              "        [0.83407364, 0.14554504, 0.18227646, ..., 0.67054585,\n",
              "         0.48832803, 0.7098646 ]],\n",
              "\n",
              "       [[0.25213903, 0.74479125, 0.10672798, ..., 0.73139352,\n",
              "         0.61816131, 0.21725552],\n",
              "        [0.06070828, 0.24604126, 0.0919842 , ..., 0.86687608,\n",
              "         0.90498429, 0.6343052 ],\n",
              "        [0.48641426, 0.0697853 , 0.65327686, ..., 0.52781702,\n",
              "         0.57490172, 0.75844732],\n",
              "        ...,\n",
              "        [0.18668555, 0.94626376, 0.00401481, ..., 0.800106  ,\n",
              "         0.73080637, 0.34937758],\n",
              "        [0.52859836, 0.76163084, 0.16528231, ..., 0.35284731,\n",
              "         0.29085265, 0.09739271],\n",
              "        [0.05760511, 0.46424648, 0.14171282, ..., 0.57853563,\n",
              "         0.91084415, 0.31778906]],\n",
              "\n",
              "       ...,\n",
              "\n",
              "       [[0.48860793, 0.45069327, 0.58637811, ..., 0.85526871,\n",
              "         0.35478764, 0.25721169],\n",
              "        [0.073582  , 0.90346396, 0.24259079, ..., 0.98503683,\n",
              "         0.4982946 , 0.51196243],\n",
              "        [0.04333589, 0.59071478, 0.92832941, ..., 0.55328396,\n",
              "         0.13492667, 0.79261208],\n",
              "        ...,\n",
              "        [0.36857253, 0.29825634, 0.30347251, ..., 0.21445444,\n",
              "         0.9291063 , 0.04323177],\n",
              "        [0.29752508, 0.58985424, 0.11814941, ..., 0.91767756,\n",
              "         0.79901709, 0.21824752],\n",
              "        [0.71334327, 0.44225547, 0.49675535, ..., 0.55854215,\n",
              "         0.51113915, 0.15414774]],\n",
              "\n",
              "       [[0.04817385, 0.72385631, 0.45942793, ..., 0.67023793,\n",
              "         0.5284581 , 0.07695548],\n",
              "        [0.46860598, 0.60033987, 0.94361449, ..., 0.66044073,\n",
              "         0.59354739, 0.03313488],\n",
              "        [0.99747253, 0.3306677 , 0.96286507, ..., 0.22508789,\n",
              "         0.14983524, 0.30361524],\n",
              "        ...,\n",
              "        [0.68830415, 0.121988  , 0.51027978, ..., 0.67115881,\n",
              "         0.62980493, 0.87140229],\n",
              "        [0.01576635, 0.2629906 , 0.59062225, ..., 0.26457159,\n",
              "         0.1343365 , 0.49206439],\n",
              "        [0.97654538, 0.73938447, 0.98753781, ..., 0.53669718,\n",
              "         0.21409962, 0.08407477]],\n",
              "\n",
              "       [[0.89997663, 0.66926538, 0.59495519, ..., 0.15920069,\n",
              "         0.98822943, 0.95003218],\n",
              "        [0.21884468, 0.19915624, 0.10273239, ..., 0.63739007,\n",
              "         0.12627771, 0.98009624],\n",
              "        [0.63289642, 0.6306677 , 0.72513579, ..., 0.36389681,\n",
              "         0.0666344 , 0.95675876],\n",
              "        ...,\n",
              "        [0.85924917, 0.99225524, 0.16976832, ..., 0.91536867,\n",
              "         0.34567646, 0.95349464],\n",
              "        [0.63680505, 0.94765406, 0.31057217, ..., 0.60038469,\n",
              "         0.32961607, 0.59080568],\n",
              "        [0.53686929, 0.11154656, 0.32826235, ..., 0.46359017,\n",
              "         0.92719783, 0.97643324]]])"
            ]
          },
          "metadata": {},
          "execution_count": 5
        }
      ]
    },
    {
      "cell_type": "code",
      "metadata": {
        "id": "K3siLQOsxSqR"
      },
      "source": [],
      "execution_count": 5,
      "outputs": []
    },
    {
      "cell_type": "markdown",
      "source": [
        "---\n",
        "<font color=green>Q2:</font>\n",
        "<br><font color='green'>\n",
        "Generate some random weights $W_{hh}, W_{xh}, b_h$\n",
        "</font>\n",
        "\n",
        "---"
      ],
      "metadata": {
        "id": "1A5iUerBfwgv"
      }
    },
    {
      "cell_type": "code",
      "metadata": {
        "id": "Zy1x3CqWyBn9"
      },
      "source": [
        "W_hh = np.random.randn(d,d)\n",
        "W_xh = np.random.randn(D,d)\n",
        "b_h = np.random.randn(d)\n",
        "A = np.random.rand(N,T,D)"
      ],
      "execution_count": 35,
      "outputs": []
    },
    {
      "cell_type": "markdown",
      "source": [
        "---\n",
        "<font color=green>Q3:</font>\n",
        "<br><font color='green'>\n",
        "Produce the output tensor with a shape of $(N, T, d)$ by generating the sequence $y_1, \\dots, y_T$ corresponding to each sequence $x_1, \\dots, x_T$.\n",
        "</font>\n",
        "\n",
        "---"
      ],
      "metadata": {
        "id": "ZvIG6LaufxHY"
      }
    },
    {
      "cell_type": "code",
      "metadata": {
        "id": "pO0LjXHdgnYZ",
        "outputId": "baaa30e4-6e69-464c-b714-7baf5dd94f87",
        "colab": {
          "base_uri": "https://localhost:8080/"
        }
      },
      "source": [
        "output = np.zeros((N,T,d))\n",
        "for i in range (N):\n",
        "  h_t_minus_one = np.zeros(d)\n",
        "  X = A[i]\n",
        "  sequence_H =[]\n",
        "  for x_t in X:\n",
        "      h = np.tanh(W_hh.T.dot(h_t_minus_one) + W_xh.T.dot(x_t) + b_h)\n",
        "      sequence_H.append(h)\n",
        "      h_t_minus_one = h\n",
        "  output[i]=np.asarray(sequence_H)\n",
        "\n",
        "\n",
        "#ma version :\n",
        "\n",
        "output2 = np.zeros((N,T,d))\n",
        "for i in range (N):\n",
        "  h=np.zeros(d)\n",
        "  for j in range (T):\n",
        "      h = np.tanh(W_hh.T.dot(h) + W_xh.T.dot(A[i,j]) + b_h)\n",
        "      output2[i,j]=h\n",
        "\n",
        "np.mean(output) - np.mean(output2)"
      ],
      "execution_count": 7,
      "outputs": [
        {
          "output_type": "execute_result",
          "data": {
            "text/plain": [
              "np.float64(0.0)"
            ]
          },
          "metadata": {},
          "execution_count": 7
        }
      ]
    },
    {
      "cell_type": "markdown",
      "source": [
        "---\n",
        "<font color=green>Q4:</font>\n",
        "<br><font color='green'>\n",
        "Plot the shape of the output:\n",
        "</font>\n",
        "\n",
        "---"
      ],
      "metadata": {
        "id": "7vD9Fa0Rfx2T"
      }
    },
    {
      "cell_type": "code",
      "metadata": {
        "id": "YfoHYcIykko8",
        "colab": {
          "base_uri": "https://localhost:8080/"
        },
        "outputId": "1e265df5-a601-41a0-b79f-8bafcde6b3f0"
      },
      "source": [
        "output.shape"
      ],
      "execution_count": 8,
      "outputs": [
        {
          "output_type": "execute_result",
          "data": {
            "text/plain": [
              "(1000, 100, 20)"
            ]
          },
          "metadata": {},
          "execution_count": 8
        }
      ]
    },
    {
      "cell_type": "markdown",
      "metadata": {
        "id": "COv33yRDvNuV"
      },
      "source": [
        "# 2. MNIST Classification using LSTMs"
      ]
    },
    {
      "cell_type": "markdown",
      "source": [
        "<center><img width=“700\" src = \"https://drive.google.com/uc?export=view&id=1KNpBc60u1QCopXygOff0tLkQNkyXuSmr\"></center>"
      ],
      "metadata": {
        "id": "IYCOGECGhVNt"
      }
    },
    {
      "cell_type": "markdown",
      "metadata": {
        "id": "u79VBT_aGlUG"
      },
      "source": [
        "We aim to employ the LSTM layer for classifying the MNIST dataset, which consists of images shaped as $(60000, 28, 28)$. Each sample represents an image with dimensions $(28, 28)$. Viewing each image as a sequence, we can interpret it as having a length of $T = 28,$ with each element having a dimension of $D = 28$."
      ]
    },
    {
      "cell_type": "markdown",
      "metadata": {
        "id": "y8mttvycUV6K"
      },
      "source": [
        "## 2.1 Loading the MNIST dataset"
      ]
    },
    {
      "cell_type": "markdown",
      "source": [
        "---\n",
        "<font color=green>Q5:</font>\n",
        "<br><font color='green'>\n",
        "Retrieve the MNIST dataset by utilizing the `tf.keras.datasets.mnist.load_data`function.\n",
        "</font>\n",
        "\n",
        "---"
      ],
      "metadata": {
        "id": "fqxR0xfgfytJ"
      }
    },
    {
      "cell_type": "code",
      "metadata": {
        "id": "grD3GopZc8Zb"
      },
      "source": [
        "(X_train, y_train), (X_test, y_test) = tf.keras.datasets.mnist.load_data()"
      ],
      "execution_count": 30,
      "outputs": []
    },
    {
      "cell_type": "markdown",
      "source": [
        "---\n",
        "<font color=green>Q6:</font>\n",
        "<br><font color='green'>\n",
        "Print the shape of the data.\n",
        "</font>\n",
        "\n",
        "---"
      ],
      "metadata": {
        "id": "ARNK6uSFfzVP"
      }
    },
    {
      "cell_type": "code",
      "metadata": {
        "id": "EOXsnm0udz00",
        "colab": {
          "base_uri": "https://localhost:8080/"
        },
        "outputId": "bfb5c1ee-2fad-4c7f-d5d9-625b27d219b1"
      },
      "source": [
        "print(f\"X_train : {X_train.shape}\")\n",
        "print(f\"y_train : {y_train.shape}\")\n",
        "print(f\"X_test : {X_test.shape}\")\n",
        "print(f\"y_test : {y_test.shape}\")"
      ],
      "execution_count": 31,
      "outputs": [
        {
          "output_type": "stream",
          "name": "stdout",
          "text": [
            "X_train : (60000, 28, 28)\n",
            "y_train : (60000,)\n",
            "X_test : (10000, 28, 28)\n",
            "y_test : (10000,)\n"
          ]
        }
      ]
    },
    {
      "cell_type": "markdown",
      "source": [
        "---\n",
        "<font color=green>Q7:</font>\n",
        "<br><font color='green'>\n",
        "Normalize the feature train and test data by dividing each pixel element by 255.\n",
        "</font>\n",
        "\n",
        "---"
      ],
      "metadata": {
        "id": "s0I9WQWdf04M"
      }
    },
    {
      "cell_type": "code",
      "metadata": {
        "id": "Sg74fdAr1ApF"
      },
      "source": [
        "X_train = X_train.astype('float32')/255\n",
        "X_test = X_test.astype('float32')/255"
      ],
      "execution_count": 19,
      "outputs": []
    },
    {
      "cell_type": "markdown",
      "source": [
        "---\n",
        "<font color=green>Q8:</font>\n",
        "<br><font color='green'>\n",
        "The targets represent categories ranging from 0 to 9. To encode them into a tensor of shape $(N, 10)$, utilize the to_categorical function from `tensorflow.keras.utils` for one-hot encoding.\n",
        "</font>\n",
        "\n",
        "---"
      ],
      "metadata": {
        "id": "5lik-Dr0f1Vy"
      }
    },
    {
      "cell_type": "code",
      "metadata": {
        "id": "RfDKDAe41zwx",
        "outputId": "8f5e656d-f77b-4b16-ee51-a93deae6b753",
        "colab": {
          "base_uri": "https://localhost:8080/"
        }
      },
      "source": [
        "from tensorflow.keras.utils import to_categorical\n",
        "y_train = to_categorical(x=y_train)\n",
        "\n",
        "\n"
      ],
      "execution_count": 32,
      "outputs": [
        {
          "output_type": "stream",
          "name": "stdout",
          "text": [
            "(60000, 10)\n"
          ]
        }
      ]
    },
    {
      "cell_type": "code",
      "metadata": {
        "id": "P0MAZMAC2Ewu",
        "colab": {
          "base_uri": "https://localhost:8080/"
        },
        "outputId": "0903f151-b2f9-42af-e2c6-878a2cddd20c"
      },
      "source": [],
      "execution_count": 34,
      "outputs": [
        {
          "output_type": "execute_result",
          "data": {
            "text/plain": [
              "np.float64(0.1)"
            ]
          },
          "metadata": {},
          "execution_count": 34
        }
      ]
    },
    {
      "cell_type": "markdown",
      "source": [
        "---\n",
        "<font color=green>Q9:</font>\n",
        "<br><font color='green'>\n",
        "Build the specified model and train it using gradient descent optimization.</font>\n",
        "\n",
        "---"
      ],
      "metadata": {
        "id": "hkrZ4josf2Ap"
      }
    },
    {
      "cell_type": "markdown",
      "source": [
        "<center><img width=“500\" src = \"https://drive.google.com/uc?export=view&id=1zCyhgITfxptmBzUDQ7-TPKsKugVyjtat\"></center>"
      ],
      "metadata": {
        "id": "unZ3w7JLhZME"
      }
    },
    {
      "cell_type": "code",
      "metadata": {
        "id": "6g2aLmH-1iUO"
      },
      "source": [
        "# Set hyperparameters\n",
        "T = X_train.shape[1]\n",
        "D = X_train.shape[2]\n",
        "d = 32\n",
        "M = 64\n",
        "N_epochs = 10\n",
        "\n"
      ],
      "execution_count": 59,
      "outputs": []
    },
    {
      "cell_type": "code",
      "source": [
        "W_hh = np.random.randn(d,d)\n",
        "W_xh = np.random.randn(D,d)\n",
        "b_h = np.zeros(d)\n",
        "A = np.random.rand(N,T,D)\n",
        "\n",
        "W_out = np.random.randn(d,10)\n",
        "b_out = np.zeros(10)\n",
        "\n",
        "output = np.zeros((N,T,d))\n",
        "\n",
        "def cross_entropy (preds,targets):\n",
        "  J = -(targets*np.log(preds + 1e-9))/targets.shape[0]\n",
        "  return (np.sum(J))\n",
        "\n",
        "def softmax(x):\n",
        "    e_x = np.exp(x - np.max(x, axis=1, keepdims=True))\n",
        "    return e_x / np.sum(e_x, axis=1, keepdims=True)\n",
        "\n",
        "#def forward(x,T=T,d=d,W_hh = W_hh,W_xh=W_xh,b_h=b_h, W_out = W_out, b_out = b_out):\n",
        "#  h = np.zeros((x.shape[0],d))\n",
        "#  hs = [] # hidden layers\n",
        "#  for t in range (T):\n",
        "#    x_t = x[:,t,:]\n",
        "#    h = np.tanh(h@W_hh + x_t.dot(W_xh) + b_h)\n",
        "#  logits = h@W_out + b_out\n",
        "#  return softmax(logits), h\n",
        "\n",
        "\n",
        "losses = []\n",
        "x = X_train\n",
        "for i in range (30):\n",
        "\n",
        "  h = np.zeros((x.shape[0],d))\n",
        "  hs = [] # hidden states\n",
        "  for t in range (T):\n",
        "    x_t = x[:,t,:]\n",
        "    h = np.tanh(h@W_hh + x_t.dot(W_xh) + b_h)\n",
        "    hs.append(h)\n",
        "  hs = np.stack(hs, axis = 1)\n",
        "  h_last = hs[:,-1,:]\n",
        "\n",
        "  logits = h_last@W_out + b_out\n",
        "  preds = softmax(logits)\n",
        "\n",
        "  loss = cross_entropy(preds, y_sample)\n",
        "  losses.append(loss)\n",
        "\n",
        "  d_logits = (preds - y_sample)/N\n",
        "  dW_out = h_last.T @ d_logits\n",
        "  db_out = np.sum(d_logits, axis = 0, keepdims = True)\n",
        "\n",
        "  # Backward pass: last hidden layer\n",
        "  dh = d_logits @ W_out.T  # (N, d)\n",
        "  for t in reversed(range(T)):\n",
        "      h_t = hs[:, t, :]\n",
        "      h_prev = hs[:, t-1, :] if t > 0 else np.zeros_like(h_t)\n",
        "      x_t = X_train[:, t, :]\n",
        "\n",
        "      dtanh = (1 - h_t ** 2) * dh  # (N, d)\n",
        "      dW_xh = x_t.T @ dtanh\n",
        "      dW_hh = h_prev.T @ dtanh\n",
        "      db_h = np.sum(dtanh, axis=0, keepdims=True)\n",
        "\n",
        "\n",
        "      # Backprop through time\n",
        "      dh = dtanh @ W_hh.T  # for next iteration\n",
        "\n",
        "      # Gradient descent step for recurrent weights (could accumulate for all t, simplified here)\n",
        "      W_xh -= learning_rate * dW_xh\n",
        "      W_hh -= learning_rate * dW_hh\n",
        "      b_h  -= learning_rate * db_h\n",
        "\n",
        "  W_out -= 0.01*grad_W_out\n",
        "  b_out -= 0.01*grad_b_out\n",
        "\n",
        "losses\n",
        "\n",
        "\n",
        "\n",
        "\n",
        "#for i in range (N):\n",
        "#  h_t_minus_one = np.zeros(d)\n",
        "#  X = A[i]\n",
        "#  sequence_H =[]\n",
        "#  for x_t in X:\n",
        "#      h = np.tanh(W_hh.T.dot(h_t_minus_one) + W_xh.T.dot(x_t) + b_h)\n",
        "#      sequence_H.append(h)\n",
        "#      h_t_minus_one = h\n",
        "#  output[i]=np.asarray(sequence_H)\n",
        "\n"
      ],
      "metadata": {
        "id": "2P1hiMwL3oWn",
        "outputId": "153fb818-e747-4aee-dbfa-3a6834735ec5",
        "colab": {
          "base_uri": "https://localhost:8080/",
          "height": 332
        }
      },
      "execution_count": 67,
      "outputs": [
        {
          "output_type": "error",
          "ename": "ValueError",
          "evalue": "operands could not be broadcast together with shapes (240,10) (60000,10) ",
          "traceback": [
            "\u001b[0;31m---------------------------------------------------------------------------\u001b[0m",
            "\u001b[0;31mValueError\u001b[0m                                Traceback (most recent call last)",
            "\u001b[0;32m/tmp/ipython-input-67-3000817382.py\u001b[0m in \u001b[0;36m<cell line: 0>\u001b[0;34m()\u001b[0m\n\u001b[1;32m     43\u001b[0m   \u001b[0mpreds\u001b[0m \u001b[0;34m=\u001b[0m \u001b[0msoftmax\u001b[0m\u001b[0;34m(\u001b[0m\u001b[0mlogits\u001b[0m\u001b[0;34m)\u001b[0m\u001b[0;34m\u001b[0m\u001b[0;34m\u001b[0m\u001b[0m\n\u001b[1;32m     44\u001b[0m \u001b[0;34m\u001b[0m\u001b[0m\n\u001b[0;32m---> 45\u001b[0;31m   \u001b[0mloss\u001b[0m \u001b[0;34m=\u001b[0m \u001b[0mcross_entropy\u001b[0m\u001b[0;34m(\u001b[0m\u001b[0mpreds\u001b[0m\u001b[0;34m,\u001b[0m \u001b[0my_sample\u001b[0m\u001b[0;34m)\u001b[0m\u001b[0;34m\u001b[0m\u001b[0;34m\u001b[0m\u001b[0m\n\u001b[0m\u001b[1;32m     46\u001b[0m   \u001b[0mlosses\u001b[0m\u001b[0;34m.\u001b[0m\u001b[0mappend\u001b[0m\u001b[0;34m(\u001b[0m\u001b[0mloss\u001b[0m\u001b[0;34m)\u001b[0m\u001b[0;34m\u001b[0m\u001b[0;34m\u001b[0m\u001b[0m\n\u001b[1;32m     47\u001b[0m \u001b[0;34m\u001b[0m\u001b[0m\n",
            "\u001b[0;32m/tmp/ipython-input-67-3000817382.py\u001b[0m in \u001b[0;36mcross_entropy\u001b[0;34m(preds, targets)\u001b[0m\n\u001b[1;32m     10\u001b[0m \u001b[0;34m\u001b[0m\u001b[0m\n\u001b[1;32m     11\u001b[0m \u001b[0;32mdef\u001b[0m \u001b[0mcross_entropy\u001b[0m \u001b[0;34m(\u001b[0m\u001b[0mpreds\u001b[0m\u001b[0;34m,\u001b[0m\u001b[0mtargets\u001b[0m\u001b[0;34m)\u001b[0m\u001b[0;34m:\u001b[0m\u001b[0;34m\u001b[0m\u001b[0;34m\u001b[0m\u001b[0m\n\u001b[0;32m---> 12\u001b[0;31m   \u001b[0mJ\u001b[0m \u001b[0;34m=\u001b[0m \u001b[0;34m-\u001b[0m\u001b[0;34m(\u001b[0m\u001b[0mtargets\u001b[0m\u001b[0;34m*\u001b[0m\u001b[0mnp\u001b[0m\u001b[0;34m.\u001b[0m\u001b[0mlog\u001b[0m\u001b[0;34m(\u001b[0m\u001b[0mpreds\u001b[0m \u001b[0;34m+\u001b[0m \u001b[0;36m1e-9\u001b[0m\u001b[0;34m)\u001b[0m\u001b[0;34m)\u001b[0m\u001b[0;34m/\u001b[0m\u001b[0mtargets\u001b[0m\u001b[0;34m.\u001b[0m\u001b[0mshape\u001b[0m\u001b[0;34m[\u001b[0m\u001b[0;36m0\u001b[0m\u001b[0;34m]\u001b[0m\u001b[0;34m\u001b[0m\u001b[0;34m\u001b[0m\u001b[0m\n\u001b[0m\u001b[1;32m     13\u001b[0m   \u001b[0;32mreturn\u001b[0m \u001b[0;34m(\u001b[0m\u001b[0mnp\u001b[0m\u001b[0;34m.\u001b[0m\u001b[0msum\u001b[0m\u001b[0;34m(\u001b[0m\u001b[0mJ\u001b[0m\u001b[0;34m)\u001b[0m\u001b[0;34m)\u001b[0m\u001b[0;34m\u001b[0m\u001b[0;34m\u001b[0m\u001b[0m\n\u001b[1;32m     14\u001b[0m \u001b[0;34m\u001b[0m\u001b[0m\n",
            "\u001b[0;31mValueError\u001b[0m: operands could not be broadcast together with shapes (240,10) (60000,10) "
          ]
        }
      ]
    },
    {
      "cell_type": "code",
      "metadata": {
        "id": "_x_oHj60k7Ww"
      },
      "source": [
        "# Import Modules\n",
        "from tensorflow.keras.models import Model, Sequential\n",
        "from tensorflow.keras.layers import Input, LSTM, Dense"
      ],
      "execution_count": 40,
      "outputs": []
    },
    {
      "cell_type": "code",
      "metadata": {
        "id": "WHxemeCSk7kb",
        "colab": {
          "base_uri": "https://localhost:8080/",
          "height": 592
        },
        "outputId": "da61dd38-16fb-422a-a02e-588735ab4c9d"
      },
      "source": [
        "model = Sequential()\n",
        "model.add(LSTM(d, return_sequences=False,input_shape = (T,D)))\n",
        "model.add(Dense(10, activation='softmax'))\n",
        "model.summary()\n",
        "\n",
        "model.compile(\n",
        "    loss='categorical_crossentropy',\n",
        "    optimizer = 'adam',\n",
        "    metrics = ['accuracy']\n",
        ")\n",
        "\n",
        "history = model.fit(X_train,y_train,\n",
        "                    batch_size = M,\n",
        "                    epochs = N_epochs,\n",
        "                    validation_split = 0.3)"
      ],
      "execution_count": 42,
      "outputs": [
        {
          "output_type": "stream",
          "name": "stderr",
          "text": [
            "/usr/local/lib/python3.11/dist-packages/keras/src/layers/rnn/rnn.py:200: UserWarning: Do not pass an `input_shape`/`input_dim` argument to a layer. When using Sequential models, prefer using an `Input(shape)` object as the first layer in the model instead.\n",
            "  super().__init__(**kwargs)\n"
          ]
        },
        {
          "output_type": "display_data",
          "data": {
            "text/plain": [
              "\u001b[1mModel: \"sequential_1\"\u001b[0m\n"
            ],
            "text/html": [
              "<pre style=\"white-space:pre;overflow-x:auto;line-height:normal;font-family:Menlo,'DejaVu Sans Mono',consolas,'Courier New',monospace\"><span style=\"font-weight: bold\">Model: \"sequential_1\"</span>\n",
              "</pre>\n"
            ]
          },
          "metadata": {}
        },
        {
          "output_type": "display_data",
          "data": {
            "text/plain": [
              "┏━━━━━━━━━━━━━━━━━━━━━━━━━━━━━━━━━┳━━━━━━━━━━━━━━━━━━━━━━━━┳━━━━━━━━━━━━━━━┓\n",
              "┃\u001b[1m \u001b[0m\u001b[1mLayer (type)                   \u001b[0m\u001b[1m \u001b[0m┃\u001b[1m \u001b[0m\u001b[1mOutput Shape          \u001b[0m\u001b[1m \u001b[0m┃\u001b[1m \u001b[0m\u001b[1m      Param #\u001b[0m\u001b[1m \u001b[0m┃\n",
              "┡━━━━━━━━━━━━━━━━━━━━━━━━━━━━━━━━━╇━━━━━━━━━━━━━━━━━━━━━━━━╇━━━━━━━━━━━━━━━┩\n",
              "│ lstm_1 (\u001b[38;5;33mLSTM\u001b[0m)                   │ (\u001b[38;5;45mNone\u001b[0m, \u001b[38;5;34m32\u001b[0m)             │         \u001b[38;5;34m7,808\u001b[0m │\n",
              "├─────────────────────────────────┼────────────────────────┼───────────────┤\n",
              "│ dense_1 (\u001b[38;5;33mDense\u001b[0m)                 │ (\u001b[38;5;45mNone\u001b[0m, \u001b[38;5;34m10\u001b[0m)             │           \u001b[38;5;34m330\u001b[0m │\n",
              "└─────────────────────────────────┴────────────────────────┴───────────────┘\n"
            ],
            "text/html": [
              "<pre style=\"white-space:pre;overflow-x:auto;line-height:normal;font-family:Menlo,'DejaVu Sans Mono',consolas,'Courier New',monospace\">┏━━━━━━━━━━━━━━━━━━━━━━━━━━━━━━━━━┳━━━━━━━━━━━━━━━━━━━━━━━━┳━━━━━━━━━━━━━━━┓\n",
              "┃<span style=\"font-weight: bold\"> Layer (type)                    </span>┃<span style=\"font-weight: bold\"> Output Shape           </span>┃<span style=\"font-weight: bold\">       Param # </span>┃\n",
              "┡━━━━━━━━━━━━━━━━━━━━━━━━━━━━━━━━━╇━━━━━━━━━━━━━━━━━━━━━━━━╇━━━━━━━━━━━━━━━┩\n",
              "│ lstm_1 (<span style=\"color: #0087ff; text-decoration-color: #0087ff\">LSTM</span>)                   │ (<span style=\"color: #00d7ff; text-decoration-color: #00d7ff\">None</span>, <span style=\"color: #00af00; text-decoration-color: #00af00\">32</span>)             │         <span style=\"color: #00af00; text-decoration-color: #00af00\">7,808</span> │\n",
              "├─────────────────────────────────┼────────────────────────┼───────────────┤\n",
              "│ dense_1 (<span style=\"color: #0087ff; text-decoration-color: #0087ff\">Dense</span>)                 │ (<span style=\"color: #00d7ff; text-decoration-color: #00d7ff\">None</span>, <span style=\"color: #00af00; text-decoration-color: #00af00\">10</span>)             │           <span style=\"color: #00af00; text-decoration-color: #00af00\">330</span> │\n",
              "└─────────────────────────────────┴────────────────────────┴───────────────┘\n",
              "</pre>\n"
            ]
          },
          "metadata": {}
        },
        {
          "output_type": "display_data",
          "data": {
            "text/plain": [
              "\u001b[1m Total params: \u001b[0m\u001b[38;5;34m8,138\u001b[0m (31.79 KB)\n"
            ],
            "text/html": [
              "<pre style=\"white-space:pre;overflow-x:auto;line-height:normal;font-family:Menlo,'DejaVu Sans Mono',consolas,'Courier New',monospace\"><span style=\"font-weight: bold\"> Total params: </span><span style=\"color: #00af00; text-decoration-color: #00af00\">8,138</span> (31.79 KB)\n",
              "</pre>\n"
            ]
          },
          "metadata": {}
        },
        {
          "output_type": "display_data",
          "data": {
            "text/plain": [
              "\u001b[1m Trainable params: \u001b[0m\u001b[38;5;34m8,138\u001b[0m (31.79 KB)\n"
            ],
            "text/html": [
              "<pre style=\"white-space:pre;overflow-x:auto;line-height:normal;font-family:Menlo,'DejaVu Sans Mono',consolas,'Courier New',monospace\"><span style=\"font-weight: bold\"> Trainable params: </span><span style=\"color: #00af00; text-decoration-color: #00af00\">8,138</span> (31.79 KB)\n",
              "</pre>\n"
            ]
          },
          "metadata": {}
        },
        {
          "output_type": "display_data",
          "data": {
            "text/plain": [
              "\u001b[1m Non-trainable params: \u001b[0m\u001b[38;5;34m0\u001b[0m (0.00 B)\n"
            ],
            "text/html": [
              "<pre style=\"white-space:pre;overflow-x:auto;line-height:normal;font-family:Menlo,'DejaVu Sans Mono',consolas,'Courier New',monospace\"><span style=\"font-weight: bold\"> Non-trainable params: </span><span style=\"color: #00af00; text-decoration-color: #00af00\">0</span> (0.00 B)\n",
              "</pre>\n"
            ]
          },
          "metadata": {}
        },
        {
          "output_type": "stream",
          "name": "stdout",
          "text": [
            "Epoch 1/10\n",
            "\u001b[1m657/657\u001b[0m \u001b[32m━━━━━━━━━━━━━━━━━━━━\u001b[0m\u001b[37m\u001b[0m \u001b[1m14s\u001b[0m 18ms/step - accuracy: 0.4384 - loss: 1.6645 - val_accuracy: 0.7602 - val_loss: 0.7246\n",
            "Epoch 2/10\n",
            "\u001b[1m657/657\u001b[0m \u001b[32m━━━━━━━━━━━━━━━━━━━━\u001b[0m\u001b[37m\u001b[0m \u001b[1m20s\u001b[0m 17ms/step - accuracy: 0.7706 - loss: 0.6794 - val_accuracy: 0.8146 - val_loss: 0.5459\n",
            "Epoch 3/10\n",
            "\u001b[1m657/657\u001b[0m \u001b[32m━━━━━━━━━━━━━━━━━━━━\u001b[0m\u001b[37m\u001b[0m \u001b[1m15s\u001b[0m 23ms/step - accuracy: 0.8191 - loss: 0.5381 - val_accuracy: 0.8364 - val_loss: 0.4817\n",
            "Epoch 4/10\n",
            "\u001b[1m657/657\u001b[0m \u001b[32m━━━━━━━━━━━━━━━━━━━━\u001b[0m\u001b[37m\u001b[0m \u001b[1m16s\u001b[0m 16ms/step - accuracy: 0.8419 - loss: 0.4754 - val_accuracy: 0.8488 - val_loss: 0.4458\n",
            "Epoch 5/10\n",
            "\u001b[1m657/657\u001b[0m \u001b[32m━━━━━━━━━━━━━━━━━━━━\u001b[0m\u001b[37m\u001b[0m \u001b[1m21s\u001b[0m 18ms/step - accuracy: 0.8583 - loss: 0.4280 - val_accuracy: 0.8609 - val_loss: 0.4117\n",
            "Epoch 6/10\n",
            "\u001b[1m657/657\u001b[0m \u001b[32m━━━━━━━━━━━━━━━━━━━━\u001b[0m\u001b[37m\u001b[0m \u001b[1m21s\u001b[0m 18ms/step - accuracy: 0.8660 - loss: 0.4013 - val_accuracy: 0.8643 - val_loss: 0.3958\n",
            "Epoch 7/10\n",
            "\u001b[1m657/657\u001b[0m \u001b[32m━━━━━━━━━━━━━━━━━━━━\u001b[0m\u001b[37m\u001b[0m \u001b[1m20s\u001b[0m 17ms/step - accuracy: 0.8730 - loss: 0.3840 - val_accuracy: 0.8707 - val_loss: 0.3870\n",
            "Epoch 8/10\n",
            "\u001b[1m657/657\u001b[0m \u001b[32m━━━━━━━━━━━━━━━━━━━━\u001b[0m\u001b[37m\u001b[0m \u001b[1m10s\u001b[0m 15ms/step - accuracy: 0.8809 - loss: 0.3638 - val_accuracy: 0.8748 - val_loss: 0.3715\n",
            "Epoch 9/10\n",
            "\u001b[1m657/657\u001b[0m \u001b[32m━━━━━━━━━━━━━━━━━━━━\u001b[0m\u001b[37m\u001b[0m \u001b[1m10s\u001b[0m 16ms/step - accuracy: 0.8851 - loss: 0.3426 - val_accuracy: 0.8783 - val_loss: 0.3675\n",
            "Epoch 10/10\n",
            "\u001b[1m657/657\u001b[0m \u001b[32m━━━━━━━━━━━━━━━━━━━━\u001b[0m\u001b[37m\u001b[0m \u001b[1m19s\u001b[0m 14ms/step - accuracy: 0.8888 - loss: 0.3364 - val_accuracy: 0.8782 - val_loss: 0.3632\n"
          ]
        }
      ]
    },
    {
      "cell_type": "markdown",
      "source": [
        "---\n",
        "<font color=green>Q10:</font>\n",
        "<br><font color='green'>\n",
        "Visualize the training and validation loss, as well as the training and validation accuracy, through plots.\n",
        "</font>\n",
        "\n",
        "---"
      ],
      "metadata": {
        "id": "nRJ1zuASf3Li"
      }
    },
    {
      "cell_type": "code",
      "metadata": {
        "id": "HVhFRaHWk7hP",
        "colab": {
          "base_uri": "https://localhost:8080/",
          "height": 619
        },
        "outputId": "0a22cc0b-99de-431e-b83e-4798b1a6a154"
      },
      "source": [
        "fig, ax = plt.subplots(figsize = (10,7))\n",
        "plt.plot(history.history['loss'], label = 'loss')\n",
        "plt.plot(history.history['val_loss'], label = 'val_loss')\n",
        "plt.xlabel('epochs')\n",
        "plt.ylabel('loss')\n",
        "plt.legend()\n",
        "plt.show()\n",
        "\n",
        "\n"
      ],
      "execution_count": 46,
      "outputs": [
        {
          "output_type": "display_data",
          "data": {
            "text/plain": [
              "<Figure size 1000x700 with 1 Axes>"
            ],
            "image/png": "[encoded data removed]"
          },
          "metadata": {}
        }
      ]
    },
    {
      "cell_type": "code",
      "metadata": {
        "id": "VWsBpMTTJUzl"
      },
      "source": [],
      "execution_count": null,
      "outputs": []
    },
    {
      "cell_type": "markdown",
      "metadata": {
        "id": "1xy8N9ZZUW44"
      },
      "source": [
        "# Wrap-up"
      ]
    },
    {
      "cell_type": "markdown",
      "metadata": {
        "id": "ApA7ycFtywuv"
      },
      "source": [
        "\n",
        "In this coding session, we've gained insights into the following:\n",
        "\n",
        "* Implementing the RNN layer from scratch using Numpy, facilitating a deeper understanding of data transformations.\n",
        "* Conducting a classification task on data with dimensions (N, T, D) by leveraging LSTM networks.\n",
        "\n"
      ]
    }
  ]
}